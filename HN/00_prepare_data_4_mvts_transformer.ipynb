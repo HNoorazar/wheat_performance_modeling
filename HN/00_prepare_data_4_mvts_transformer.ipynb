{
 "cells": [
  {
   "cell_type": "code",
   "execution_count": 1,
   "id": "f0dbad70-a71d-45fb-8562-247573279ea9",
   "metadata": {},
   "outputs": [],
   "source": [
    "import shutup\n",
    "shutup.please()\n",
    "\n",
    "import pandas as pd\n",
    "import numpy as np\n",
    "import os, os.path, pickle, sys\n",
    "from datetime import datetime, date"
   ]
  },
  {
   "cell_type": "code",
   "execution_count": 2,
   "id": "7d28900f-a3ff-423f-b468-417a51db6544",
   "metadata": {},
   "outputs": [],
   "source": [
    "wheat_database = \"/Users/hn/Documents/01_research_data/Other_people/Ehsan/wheat/\"\n",
    "data_dir = wheat_database + \"data/\"\n",
    "separate_varieties_dir = data_dir + \"varieties/\"\n",
    "\n",
    "reOrganized_dir = data_dir + \"reOrganized/\"\n",
    "os.makedirs(reOrganized_dir, exist_ok=True)"
   ]
  },
  {
   "cell_type": "code",
   "execution_count": 3,
   "id": "0fe75a69",
   "metadata": {},
   "outputs": [],
   "source": [
    "# This is not what we want.\n",
    "# We want full data series.\n",
    "# filename = (reOrganized_dir + \"all_stages_df22805_varietyAvgd.sav\")\n",
    "# all_stages_df22805_varietyAvgd = pd.read_pickle(filename)\n",
    "# all_stages_df22805_varietyAvgd.keys()\n",
    "\n",
    "# all_stages_df22805_varietyAvgd = all_stages_df22805_varietyAvgd[\"all_stages_data\"]\n",
    "# all_stages_df22805_varietyAvgd.head(2)"
   ]
  },
  {
   "cell_type": "code",
   "execution_count": 4,
   "id": "878ce94a",
   "metadata": {},
   "outputs": [
    {
     "data": {
      "text/plain": [
       "{'fdd': 'freezing_dd',\n",
       " 'srad': 'shortwave_rad_Wm2',\n",
       " 'prdtr': 'precip_div_dtr',\n",
       " 'dtr': 'diurnal_temp',\n",
       " 'dgdd': 'diurnal_gdd',\n",
       " 'ravg': 'relative_humidity_avg',\n",
       " 'hdd': 'high_dd',\n",
       " 'vs': 'wind_speed_ms',\n",
       " 'vpd': 'vpd_kPa'}"
      ]
     },
     "execution_count": 4,
     "metadata": {},
     "output_type": "execute_result"
    }
   ],
   "source": [
    "filename = (reOrganized_dir + \"variables_dict.sav\")\n",
    "variables_dict = pd.read_pickle(filename)\n",
    "variables_dict.keys()\n",
    "\n",
    "variables_dict = variables_dict[\"variables_abb_dict\"]\n",
    "variables_dict"
   ]
  },
  {
   "cell_type": "code",
   "execution_count": 5,
   "id": "fe1876e9",
   "metadata": {},
   "outputs": [
    {
     "data": {
      "text/plain": [
       "dict_keys(['averaged_varieties_weekly', 'separate_varieties_weekly', 'separate_varieties_annual', 'averaged_varieties_annual', 'separate_varieties_4season', 'averaged_varieties_4season', 'dates', 'source_code', 'Author', 'Date'])"
      ]
     },
     "execution_count": 5,
     "metadata": {},
     "output_type": "execute_result"
    }
   ],
   "source": [
    "filename = (reOrganized_dir + \"average_and_seperate_varieties_weekly.sav\")\n",
    "average_and_seperate_weekly = pd.read_pickle(filename)\n",
    "average_and_seperate_weekly.keys()"
   ]
  },
  {
   "cell_type": "code",
   "execution_count": 7,
   "id": "63f07378",
   "metadata": {},
   "outputs": [
    {
     "data": {
      "text/html": [
       "<div>\n",
       "<style scoped>\n",
       "    .dataframe tbody tr th:only-of-type {\n",
       "        vertical-align: middle;\n",
       "    }\n",
       "\n",
       "    .dataframe tbody tr th {\n",
       "        vertical-align: top;\n",
       "    }\n",
       "\n",
       "    .dataframe thead th {\n",
       "        text-align: right;\n",
       "    }\n",
       "</style>\n",
       "<table border=\"1\" class=\"dataframe\">\n",
       "  <thead>\n",
       "    <tr style=\"text-align: right;\">\n",
       "      <th></th>\n",
       "      <th>location</th>\n",
       "      <th>year</th>\n",
       "      <th>variety</th>\n",
       "      <th>yield</th>\n",
       "      <th>1_tavg</th>\n",
       "      <th>2_tavg</th>\n",
       "      <th>3_tavg</th>\n",
       "      <th>4_tavg</th>\n",
       "      <th>5_tavg</th>\n",
       "      <th>6_tavg</th>\n",
       "      <th>...</th>\n",
       "      <th>16_vs</th>\n",
       "      <th>17_vs</th>\n",
       "      <th>18_vs</th>\n",
       "      <th>19_vs</th>\n",
       "      <th>20_vs</th>\n",
       "      <th>21_vs</th>\n",
       "      <th>22_vs</th>\n",
       "      <th>23_vs</th>\n",
       "      <th>24_vs</th>\n",
       "      <th>25_vs</th>\n",
       "    </tr>\n",
       "  </thead>\n",
       "  <tbody>\n",
       "    <tr>\n",
       "      <th>0</th>\n",
       "      <td>Almira</td>\n",
       "      <td>2005</td>\n",
       "      <td>Alpowa</td>\n",
       "      <td>43.9</td>\n",
       "      <td>7.725714</td>\n",
       "      <td>14.655</td>\n",
       "      <td>11.125714</td>\n",
       "      <td>14.511429</td>\n",
       "      <td>14.647143</td>\n",
       "      <td>12.345</td>\n",
       "      <td>...</td>\n",
       "      <td>3.3</td>\n",
       "      <td>2.528571</td>\n",
       "      <td>2.55</td>\n",
       "      <td>NaN</td>\n",
       "      <td>NaN</td>\n",
       "      <td>NaN</td>\n",
       "      <td>NaN</td>\n",
       "      <td>NaN</td>\n",
       "      <td>NaN</td>\n",
       "      <td>NaN</td>\n",
       "    </tr>\n",
       "    <tr>\n",
       "      <th>1</th>\n",
       "      <td>Almira</td>\n",
       "      <td>2005</td>\n",
       "      <td>Alturas</td>\n",
       "      <td>37.7</td>\n",
       "      <td>7.725714</td>\n",
       "      <td>14.655</td>\n",
       "      <td>11.125714</td>\n",
       "      <td>14.511429</td>\n",
       "      <td>14.647143</td>\n",
       "      <td>12.345</td>\n",
       "      <td>...</td>\n",
       "      <td>3.3</td>\n",
       "      <td>2.528571</td>\n",
       "      <td>2.55</td>\n",
       "      <td>NaN</td>\n",
       "      <td>NaN</td>\n",
       "      <td>NaN</td>\n",
       "      <td>NaN</td>\n",
       "      <td>NaN</td>\n",
       "      <td>NaN</td>\n",
       "      <td>NaN</td>\n",
       "    </tr>\n",
       "  </tbody>\n",
       "</table>\n",
       "<p>2 rows × 329 columns</p>\n",
       "</div>"
      ],
      "text/plain": [
       "  location  year  variety  yield    1_tavg  2_tavg     3_tavg     4_tavg  \\\n",
       "0   Almira  2005   Alpowa   43.9  7.725714  14.655  11.125714  14.511429   \n",
       "1   Almira  2005  Alturas   37.7  7.725714  14.655  11.125714  14.511429   \n",
       "\n",
       "      5_tavg  6_tavg  ...  16_vs     17_vs  18_vs  19_vs  20_vs  21_vs  22_vs  \\\n",
       "0  14.647143  12.345  ...    3.3  2.528571   2.55    NaN    NaN    NaN    NaN   \n",
       "1  14.647143  12.345  ...    3.3  2.528571   2.55    NaN    NaN    NaN    NaN   \n",
       "\n",
       "   23_vs  24_vs  25_vs  \n",
       "0    NaN    NaN    NaN  \n",
       "1    NaN    NaN    NaN  \n",
       "\n",
       "[2 rows x 329 columns]"
      ]
     },
     "execution_count": 7,
     "metadata": {},
     "output_type": "execute_result"
    }
   ],
   "source": [
    "separate_varieties_weekly = average_and_seperate_weekly[\"separate_varieties_weekly\"]\n",
    "separate_varieties_weekly.head(2)"
   ]
  },
  {
   "cell_type": "code",
   "execution_count": 18,
   "id": "21eb46db",
   "metadata": {},
   "outputs": [
    {
     "data": {
      "text/plain": [
       "['location', 'year', 'variety', 'yield']"
      ]
     },
     "execution_count": 18,
     "metadata": {},
     "output_type": "execute_result"
    }
   ],
   "source": [
    "import re\n",
    "\n",
    "col_names = list(separate_varieties_weekly.columns)\n",
    "col_names[:4]"
   ]
  },
  {
   "cell_type": "code",
   "execution_count": 19,
   "id": "4a7cc388",
   "metadata": {},
   "outputs": [
    {
     "data": {
      "text/plain": [
       "['1_tavg', '2_tavg', '3_tavg', '4_tavg']"
      ]
     },
     "execution_count": 19,
     "metadata": {},
     "output_type": "execute_result"
    }
   ],
   "source": [
    "## detect columns that start with a digit\n",
    "## so we can extract them and put them in a list as time series.\n",
    "pattern = r\"^\\d\"\n",
    "digital_columns = [s for s in col_names if re.match(pattern, s)]\n",
    "digital_columns[:4]"
   ]
  },
  {
   "cell_type": "code",
   "execution_count": 21,
   "id": "6bfb84a0",
   "metadata": {},
   "outputs": [
    {
     "name": "stdout",
     "output_type": "stream",
     "text": [
      "len(digital_columns) = 325\n",
      "len(col_names) = 329\n"
     ]
    }
   ],
   "source": [
    "print (f\"{len(digital_columns) = }\")\n",
    "print (f\"{len(col_names) = }\")"
   ]
  },
  {
   "cell_type": "code",
   "execution_count": 22,
   "id": "0d0ded73",
   "metadata": {},
   "outputs": [
    {
     "data": {
      "text/plain": [
       "['location', 'year', 'variety', 'yield']"
      ]
     },
     "execution_count": 22,
     "metadata": {},
     "output_type": "execute_result"
    }
   ],
   "source": [
    "non_digital_columns = [s for s in col_names if not(re.match(pattern, s))]\n",
    "non_digital_columns[:4]"
   ]
  },
  {
   "cell_type": "code",
   "execution_count": 47,
   "id": "4d89c754",
   "metadata": {},
   "outputs": [
    {
     "data": {
      "text/plain": [
       "['tavg',\n",
       " 'dtr',\n",
       " 'hdd',\n",
       " 'vs',\n",
       " 'gdd',\n",
       " 'vpd',\n",
       " 'ravg',\n",
       " 'dgdd',\n",
       " 'srad',\n",
       " 'precip',\n",
       " 'prdtr',\n",
       " 'fdd']"
      ]
     },
     "execution_count": 47,
     "metadata": {},
     "output_type": "execute_result"
    }
   ],
   "source": [
    "# count number of different variables\n",
    "variables_list = [s.split(\"_\")[1] for s in digital_columns]\n",
    "variables_list = list(set(variables_list))\n",
    "variables_list.remove(\"dtr.1\")\n",
    "variables_list"
   ]
  },
  {
   "cell_type": "code",
   "execution_count": 52,
   "id": "8e6c6481",
   "metadata": {},
   "outputs": [
    {
     "data": {
      "text/html": [
       "<div>\n",
       "<style scoped>\n",
       "    .dataframe tbody tr th:only-of-type {\n",
       "        vertical-align: middle;\n",
       "    }\n",
       "\n",
       "    .dataframe tbody tr th {\n",
       "        vertical-align: top;\n",
       "    }\n",
       "\n",
       "    .dataframe thead th {\n",
       "        text-align: right;\n",
       "    }\n",
       "</style>\n",
       "<table border=\"1\" class=\"dataframe\">\n",
       "  <thead>\n",
       "    <tr style=\"text-align: right;\">\n",
       "      <th></th>\n",
       "      <th>0</th>\n",
       "      <th>1</th>\n",
       "      <th>2</th>\n",
       "      <th>3</th>\n",
       "      <th>4</th>\n",
       "      <th>5</th>\n",
       "      <th>6</th>\n",
       "      <th>7</th>\n",
       "      <th>8</th>\n",
       "      <th>9</th>\n",
       "      <th>10</th>\n",
       "      <th>11</th>\n",
       "      <th>12</th>\n",
       "      <th>13</th>\n",
       "      <th>14</th>\n",
       "      <th>15</th>\n",
       "    </tr>\n",
       "  </thead>\n",
       "  <tbody>\n",
       "    <tr>\n",
       "      <th>0</th>\n",
       "      <td>0.0</td>\n",
       "      <td>0.0</td>\n",
       "      <td>0.0</td>\n",
       "      <td>0.0</td>\n",
       "      <td>0.0</td>\n",
       "      <td>0.0</td>\n",
       "      <td>0.0</td>\n",
       "      <td>0.0</td>\n",
       "      <td>0.0</td>\n",
       "      <td>0.0</td>\n",
       "      <td>0.0</td>\n",
       "      <td>0.0</td>\n",
       "      <td>0.0</td>\n",
       "      <td>0.0</td>\n",
       "      <td>0.0</td>\n",
       "      <td>0.0</td>\n",
       "    </tr>\n",
       "    <tr>\n",
       "      <th>1</th>\n",
       "      <td>0.0</td>\n",
       "      <td>0.0</td>\n",
       "      <td>0.0</td>\n",
       "      <td>0.0</td>\n",
       "      <td>0.0</td>\n",
       "      <td>0.0</td>\n",
       "      <td>0.0</td>\n",
       "      <td>0.0</td>\n",
       "      <td>0.0</td>\n",
       "      <td>0.0</td>\n",
       "      <td>0.0</td>\n",
       "      <td>0.0</td>\n",
       "      <td>0.0</td>\n",
       "      <td>0.0</td>\n",
       "      <td>0.0</td>\n",
       "      <td>0.0</td>\n",
       "    </tr>\n",
       "  </tbody>\n",
       "</table>\n",
       "</div>"
      ],
      "text/plain": [
       "    0    1    2    3    4    5    6    7    8    9    10   11   12   13   14  \\\n",
       "0  0.0  0.0  0.0  0.0  0.0  0.0  0.0  0.0  0.0  0.0  0.0  0.0  0.0  0.0  0.0   \n",
       "1  0.0  0.0  0.0  0.0  0.0  0.0  0.0  0.0  0.0  0.0  0.0  0.0  0.0  0.0  0.0   \n",
       "\n",
       "    15  \n",
       "0  0.0  \n",
       "1  0.0  "
      ]
     },
     "execution_count": 52,
     "metadata": {},
     "output_type": "execute_result"
    }
   ],
   "source": [
    "rows = len(separate_varieties_weekly)\n",
    "cols = len(non_digital_columns) + len(variables_list)\n",
    "separate_vars_weekly_TS = pd.DataFrame(np.zeros((rows, cols)))\n",
    "separate_vars_weekly_TS.head(2)"
   ]
  },
  {
   "cell_type": "code",
   "execution_count": 53,
   "id": "605cf611",
   "metadata": {},
   "outputs": [
    {
     "data": {
      "text/html": [
       "<div>\n",
       "<style scoped>\n",
       "    .dataframe tbody tr th:only-of-type {\n",
       "        vertical-align: middle;\n",
       "    }\n",
       "\n",
       "    .dataframe tbody tr th {\n",
       "        vertical-align: top;\n",
       "    }\n",
       "\n",
       "    .dataframe thead th {\n",
       "        text-align: right;\n",
       "    }\n",
       "</style>\n",
       "<table border=\"1\" class=\"dataframe\">\n",
       "  <thead>\n",
       "    <tr style=\"text-align: right;\">\n",
       "      <th></th>\n",
       "      <th>location</th>\n",
       "      <th>year</th>\n",
       "      <th>variety</th>\n",
       "      <th>yield</th>\n",
       "      <th>tavg</th>\n",
       "      <th>dtr</th>\n",
       "      <th>hdd</th>\n",
       "      <th>vs</th>\n",
       "      <th>gdd</th>\n",
       "      <th>vpd</th>\n",
       "      <th>ravg</th>\n",
       "      <th>dgdd</th>\n",
       "      <th>srad</th>\n",
       "      <th>precip</th>\n",
       "      <th>prdtr</th>\n",
       "      <th>fdd</th>\n",
       "    </tr>\n",
       "  </thead>\n",
       "  <tbody>\n",
       "    <tr>\n",
       "      <th>0</th>\n",
       "      <td>0.0</td>\n",
       "      <td>0.0</td>\n",
       "      <td>0.0</td>\n",
       "      <td>0.0</td>\n",
       "      <td>0.0</td>\n",
       "      <td>0.0</td>\n",
       "      <td>0.0</td>\n",
       "      <td>0.0</td>\n",
       "      <td>0.0</td>\n",
       "      <td>0.0</td>\n",
       "      <td>0.0</td>\n",
       "      <td>0.0</td>\n",
       "      <td>0.0</td>\n",
       "      <td>0.0</td>\n",
       "      <td>0.0</td>\n",
       "      <td>0.0</td>\n",
       "    </tr>\n",
       "    <tr>\n",
       "      <th>1</th>\n",
       "      <td>0.0</td>\n",
       "      <td>0.0</td>\n",
       "      <td>0.0</td>\n",
       "      <td>0.0</td>\n",
       "      <td>0.0</td>\n",
       "      <td>0.0</td>\n",
       "      <td>0.0</td>\n",
       "      <td>0.0</td>\n",
       "      <td>0.0</td>\n",
       "      <td>0.0</td>\n",
       "      <td>0.0</td>\n",
       "      <td>0.0</td>\n",
       "      <td>0.0</td>\n",
       "      <td>0.0</td>\n",
       "      <td>0.0</td>\n",
       "      <td>0.0</td>\n",
       "    </tr>\n",
       "  </tbody>\n",
       "</table>\n",
       "</div>"
      ],
      "text/plain": [
       "   location  year  variety  yield  tavg  dtr  hdd   vs  gdd  vpd  ravg  dgdd  \\\n",
       "0       0.0   0.0      0.0    0.0   0.0  0.0  0.0  0.0  0.0  0.0   0.0   0.0   \n",
       "1       0.0   0.0      0.0    0.0   0.0  0.0  0.0  0.0  0.0  0.0   0.0   0.0   \n",
       "\n",
       "   srad  precip  prdtr  fdd  \n",
       "0   0.0     0.0    0.0  0.0  \n",
       "1   0.0     0.0    0.0  0.0  "
      ]
     },
     "execution_count": 53,
     "metadata": {},
     "output_type": "execute_result"
    }
   ],
   "source": [
    "columns = non_digital_columns + variables_list\n",
    "separate_vars_weekly_TS.columns = columns\n",
    "separate_vars_weekly_TS.head(2)"
   ]
  },
  {
   "cell_type": "markdown",
   "id": "a93bfc03",
   "metadata": {},
   "source": [
    "## Populate dataframe"
   ]
  },
  {
   "cell_type": "code",
   "execution_count": 54,
   "id": "385932ca",
   "metadata": {},
   "outputs": [
    {
     "data": {
      "text/html": [
       "<div>\n",
       "<style scoped>\n",
       "    .dataframe tbody tr th:only-of-type {\n",
       "        vertical-align: middle;\n",
       "    }\n",
       "\n",
       "    .dataframe tbody tr th {\n",
       "        vertical-align: top;\n",
       "    }\n",
       "\n",
       "    .dataframe thead th {\n",
       "        text-align: right;\n",
       "    }\n",
       "</style>\n",
       "<table border=\"1\" class=\"dataframe\">\n",
       "  <thead>\n",
       "    <tr style=\"text-align: right;\">\n",
       "      <th></th>\n",
       "      <th>location</th>\n",
       "      <th>year</th>\n",
       "      <th>variety</th>\n",
       "      <th>yield</th>\n",
       "      <th>tavg</th>\n",
       "      <th>dtr</th>\n",
       "      <th>hdd</th>\n",
       "      <th>vs</th>\n",
       "      <th>gdd</th>\n",
       "      <th>vpd</th>\n",
       "      <th>ravg</th>\n",
       "      <th>dgdd</th>\n",
       "      <th>srad</th>\n",
       "      <th>precip</th>\n",
       "      <th>prdtr</th>\n",
       "      <th>fdd</th>\n",
       "    </tr>\n",
       "  </thead>\n",
       "  <tbody>\n",
       "    <tr>\n",
       "      <th>0</th>\n",
       "      <td>Almira</td>\n",
       "      <td>2005</td>\n",
       "      <td>Alpowa</td>\n",
       "      <td>43.9</td>\n",
       "      <td>0.0</td>\n",
       "      <td>0.0</td>\n",
       "      <td>0.0</td>\n",
       "      <td>0.0</td>\n",
       "      <td>0.0</td>\n",
       "      <td>0.0</td>\n",
       "      <td>0.0</td>\n",
       "      <td>0.0</td>\n",
       "      <td>0.0</td>\n",
       "      <td>0.0</td>\n",
       "      <td>0.0</td>\n",
       "      <td>0.0</td>\n",
       "    </tr>\n",
       "    <tr>\n",
       "      <th>1</th>\n",
       "      <td>Almira</td>\n",
       "      <td>2005</td>\n",
       "      <td>Alturas</td>\n",
       "      <td>37.7</td>\n",
       "      <td>0.0</td>\n",
       "      <td>0.0</td>\n",
       "      <td>0.0</td>\n",
       "      <td>0.0</td>\n",
       "      <td>0.0</td>\n",
       "      <td>0.0</td>\n",
       "      <td>0.0</td>\n",
       "      <td>0.0</td>\n",
       "      <td>0.0</td>\n",
       "      <td>0.0</td>\n",
       "      <td>0.0</td>\n",
       "      <td>0.0</td>\n",
       "    </tr>\n",
       "  </tbody>\n",
       "</table>\n",
       "</div>"
      ],
      "text/plain": [
       "  location  year  variety  yield  tavg  dtr  hdd   vs  gdd  vpd  ravg  dgdd  \\\n",
       "0   Almira  2005   Alpowa   43.9   0.0  0.0  0.0  0.0  0.0  0.0   0.0   0.0   \n",
       "1   Almira  2005  Alturas   37.7   0.0  0.0  0.0  0.0  0.0  0.0   0.0   0.0   \n",
       "\n",
       "   srad  precip  prdtr  fdd  \n",
       "0   0.0     0.0    0.0  0.0  \n",
       "1   0.0     0.0    0.0  0.0  "
      ]
     },
     "execution_count": 54,
     "metadata": {},
     "output_type": "execute_result"
    }
   ],
   "source": [
    "separate_vars_weekly_TS[non_digital_columns] = separate_varieties_weekly[non_digital_columns]\n",
    "separate_vars_weekly_TS.head(2)"
   ]
  },
  {
   "cell_type": "code",
   "execution_count": null,
   "id": "f15a9fb9",
   "metadata": {},
   "outputs": [],
   "source": [
    "for a_variable in variables_list:\n",
    "    "
   ]
  }
 ],
 "metadata": {
  "kernelspec": {
   "display_name": "Python 3 (ipykernel)",
   "language": "python",
   "name": "python3"
  },
  "language_info": {
   "codemirror_mode": {
    "name": "ipython",
    "version": 3
   },
   "file_extension": ".py",
   "mimetype": "text/x-python",
   "name": "python",
   "nbconvert_exporter": "python",
   "pygments_lexer": "ipython3",
   "version": "3.11.5"
  }
 },
 "nbformat": 4,
 "nbformat_minor": 5
}
